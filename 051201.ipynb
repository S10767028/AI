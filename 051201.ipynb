{
  "nbformat": 4,
  "nbformat_minor": 0,
  "metadata": {
    "colab": {
      "name": "051201",
      "provenance": [],
      "collapsed_sections": [],
      "toc_visible": true,
      "include_colab_link": true
    },
    "kernelspec": {
      "display_name": "Python 3",
      "name": "python3"
    }
  },
  "cells": [
    {
      "cell_type": "markdown",
      "metadata": {
        "id": "view-in-github",
        "colab_type": "text"
      },
      "source": [
        "<a href=\"https://colab.research.google.com/github/S10767028/AI/blob/main/051201.ipynb\" target=\"_parent\"><img src=\"https://colab.research.google.com/assets/colab-badge.svg\" alt=\"Open In Colab\"/></a>"
      ]
    },
    {
      "cell_type": "code",
      "metadata": {
        "id": "I9KiU9lIVm0-",
        "colab": {
          "base_uri": "https://localhost:8080/",
          "height": 337
        },
        "outputId": "121e2564-42c8-41e0-fa34-91f6d11fe847"
      },
      "source": [
        "import numpy as np\n",
        "from sklearn.model_selection import train_test_split\n",
        "from sklearn.cluster import KMeans\n",
        "from time import time \n",
        "import numpy as np\n",
        "import matplotlib.pyplot as plt\n",
        "from sklearn import metrics\n",
        "X= np.array([[1,1],[1.1,1.1],[1.2,1.2],[2,2],[2.1,2.1],[2.2,2.2]])\n",
        "Y=[1,1,1,0,0,0]\n",
        "kmeans = KMeans(n_clusters=2, random_state=0).fit(X)\n",
        "print(\"集群中心的座標\",kmeans.cluster_centers_)\n",
        "print(\"預測\",kmeans.predict(X))\n",
        "print(\"實際\",Y)\n",
        "print(\"預測[1,1],[2.3,2.1]:\",kmeans.predict([[1,1],[2.3,2.21]]))\n",
        "\n",
        "plt.axis([0,3,0,3])\n",
        "plt.plot(X[:3,0],X[:3,1],'yx')\n",
        "plt.plot(X[3:,0],X[3:,1],'g.')\n",
        "plt.plot(kmeans.cluster_centers_[:,0], kmeans.cluster_centers_[:,1],'ro')\n",
        "plt.xticks(())\n",
        "plt.yticks(())\n",
        "plt.show()"
      ],
      "execution_count": null,
      "outputs": [
        {
          "output_type": "stream",
          "text": [
            "集群中心的座標 [[2.1 2.1]\n",
            " [1.1 1.1]]\n",
            "預測 [1 1 1 0 0 0]\n",
            "實際 [1, 1, 1, 0, 0, 0]\n",
            "預測[1,1],[2.3,2.1]: [1 0]\n"
          ],
          "name": "stdout"
        },
        {
          "output_type": "display_data",
          "data": {
            "image/png": "[encoded data removed]",
            "text/plain": [
              "<Figure size 432x288 with 1 Axes>"
            ]
          },
          "metadata": {
            "tags": []
          }
        }
      ]
    },
    {
      "cell_type": "code",
      "metadata": {
        "id": "7sRDJygPWzxQ",
        "colab": {
          "base_uri": "https://localhost:8080/"
        },
        "outputId": "d1d1108a-77c2-454b-d7b7-b4b79cccf465"
      },
      "source": [
        "import matplotlib.pyplot as plt\n",
        "import numpy as np\n",
        "from sklearn import datasets\n",
        "from sklearn.model_selection import train_test_split\n",
        "from sklearn.cluster import KMeans\n",
        "from sklearn import metrics\n",
        "\n",
        "iris = datasets.load_iris()\n",
        "iris_X_train , iris_X_test , iris_y_train , iris_y_test =train_test_split(iris.data,iris.target,test_size=0.2)\n",
        "Kmeans= KMeans(n_clusters =2)\n",
        "kmeans_fit =Kmeans.fit(iris_X_train)\n",
        "print(\"實際\",iris_y_train)\n",
        "print(\"預測\",kmeans_fit.labels_)\n",
        "iris_y_train[iris_y_train==1]=11\n",
        "iris_y_train[iris_y_train==0]=1\n",
        "iris_y_train[iris_y_train==11]=0\n",
        "print(\"調整\",iris_y_train)\n",
        "score = metrics.accuracy_score(iris_y_train,Kmeans.predict(iris_X_train))\n",
        "print(\"準確率:{0:f}\".format(score))\n"
      ],
      "execution_count": null,
      "outputs": [
        {
          "output_type": "stream",
          "text": [
            "實際 [2 2 2 0 2 0 1 1 1 0 2 1 1 0 0 0 1 2 1 0 1 2 0 0 1 2 1 0 1 2 2 0 0 1 0 0 1\n",
            " 1 0 1 2 0 2 0 1 2 2 0 0 1 2 2 2 2 1 0 2 0 2 1 2 0 0 2 1 0 2 0 1 1 0 2 2 1\n",
            " 2 1 1 0 2 1 2 0 2 2 1 1 0 2 0 1 1 1 0 0 1 1 2 0 2 1 2 0 0 1 0 1 0 1 0 0 2\n",
            " 2 2 2 2 0 2 1 2 1]\n",
            "預測 [0 0 0 1 0 1 0 0 0 1 0 0 0 1 1 1 0 0 0 1 0 0 1 1 1 0 0 1 0 0 0 1 1 0 1 1 0\n",
            " 0 1 1 0 1 0 1 1 0 0 1 1 0 0 0 0 0 0 1 0 1 0 0 0 1 1 0 0 1 0 1 0 0 1 0 0 0\n",
            " 0 0 0 1 0 0 0 1 0 0 0 0 1 0 1 0 0 0 1 1 0 0 0 1 0 0 0 1 1 0 1 0 1 0 1 1 0\n",
            " 0 0 0 0 1 0 0 0 0]\n",
            "調整 [2 2 2 1 2 1 0 0 0 1 2 0 0 1 1 1 0 2 0 1 0 2 1 1 0 2 0 1 0 2 2 1 1 0 1 1 0\n",
            " 0 1 0 2 1 2 1 0 2 2 1 1 0 2 2 2 2 0 1 2 1 2 0 2 1 1 2 0 1 2 1 0 0 1 2 2 0\n",
            " 2 0 0 1 2 0 2 1 2 2 0 0 1 2 1 0 0 0 1 1 0 0 2 1 2 0 2 1 1 0 1 0 1 0 1 1 2\n",
            " 2 2 2 2 1 2 0 2 0]\n",
            "準確率:0.633333\n"
          ],
          "name": "stdout"
        }
      ]
    },
    {
      "cell_type": "code",
      "metadata": {
        "id": "DFfAuSoPdi3Z",
        "colab": {
          "base_uri": "https://localhost:8080/",
          "height": 265
        },
        "outputId": "5ce1c7d8-9612-4043-9d32-c7c3e309fa29"
      },
      "source": [
        "import matplotlib.pyplot as plt\n",
        "import numpy as np\n",
        "from sklearn import datasets\n",
        "from sklearn.model_selection import train_test_split\n",
        "from sklearn.cluster import KMeans\n",
        "from sklearn import metrics\n",
        "\n",
        "iris = datasets.load_iris()\n",
        "iris_X_train , iris_X_test , iris_y_train , iris_y_test =train_test_split(iris.data,iris.target,test_size=0.2)\n",
        "Kmeans= KMeans(n_clusters =3)\n",
        "kmeans_fit =Kmeans.fit(iris_X_train)\n",
        "y_predict=Kmeans.predict(iris_X_train)\n",
        "x1=iris_X_train[:,0]\n",
        "y1=iris_X_train[:,1]\n",
        "plt.scatter(x1,y1,c=y_predict, cmap='viridis')\n",
        "centers=Kmeans.cluster_centers_\n",
        "plt.scatter(centers[:,0],centers[:,1],c='black',s=200,alpha=0.5);\n",
        "plt.show()"
      ],
      "execution_count": null,
      "outputs": [
        {
          "output_type": "display_data",
          "data": {
            "image/png": "[encoded data removed]",
            "text/plain": [
              "<Figure size 432x288 with 1 Axes>"
            ]
          },
          "metadata": {
            "tags": [],
            "needs_background": "light"
          }
        }
      ]
    }
  ]
}